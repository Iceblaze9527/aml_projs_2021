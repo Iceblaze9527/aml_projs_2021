{
 "cells": [
  {
   "cell_type": "markdown",
   "metadata": {},
   "source": [
    "# Task 3_EDA"
   ]
  },
  {
   "cell_type": "code",
   "execution_count": null,
   "metadata": {},
   "outputs": [],
   "source": [
    "%%javascript\n",
    "IPython.OutputArea.prototype._should_scroll = function(){return false}"
   ]
  },
  {
   "cell_type": "code",
   "execution_count": null,
   "metadata": {},
   "outputs": [],
   "source": [
    "import os\n",
    "import pickle\n",
    "import gzip\n",
    "\n",
    "import numpy as np\n",
    "import matplotlib.pyplot as plt\n",
    "from ipywidgets import Layout, interact, IntSlider"
   ]
  },
  {
   "cell_type": "code",
   "execution_count": null,
   "metadata": {},
   "outputs": [],
   "source": [
    "def load_zipped_pickle(filename):\n",
    "    with gzip.open(filename, 'rb') as f:\n",
    "        loaded_object = pickle.load(f)\n",
    "        return loaded_object"
   ]
  },
  {
   "cell_type": "markdown",
   "metadata": {},
   "source": [
    "## 1. Inspect Training Data\n",
    "### 1.1 Show Static Frames"
   ]
  },
  {
   "cell_type": "code",
   "execution_count": null,
   "metadata": {},
   "outputs": [],
   "source": [
    "def show_frames_train(data, frames, is_labeled):\n",
    "    fig, axes = plt.subplots(1, len(frames), figsize=(16,12))\n",
    "    print('Labeled Frames:') if is_labeled else print('Unlabeled Frames:')\n",
    "            \n",
    "    for frame, ax in zip(frames, axes):\n",
    "        ax.set_title(data['name'] + ': Frame#' + str(frame))\n",
    "    \n",
    "        ax.imshow(data['video'][:,:,frame], cmap='gray')\n",
    "        ax.imshow(data['box'], alpha=0.25, cmap='gray')\n",
    "        ax.imshow(data['label'][:,:,frame], alpha=0.35, cmap='hot')\n",
    "\n",
    "    plt.show()\n",
    "    plt.close() \n",
    "    \n",
    "def data_inspection_train(train_data, source):\n",
    "    train_size = len(train_data)\n",
    "    print('-----------')\n",
    "    print('Source: ', source)\n",
    "    \n",
    "    for idx in range(train_size):\n",
    "        data = train_data[idx]\n",
    "        \n",
    "        if data['dataset'] == source:\n",
    "            res = data['video'].shape\n",
    "            print('-----------')\n",
    "            print('Name: ', data['name'])\n",
    "            print('Video Resolution: ', res)\n",
    "            \n",
    "            labeled = data['frames']\n",
    "            unlabeled = np.random.choice(np.delete(np.arange(res[2]), labeled), size=len(labeled))\n",
    "            \n",
    "            show_frames_train(data, labeled, True)\n",
    "            show_frames_train(data, unlabeled, False)\n",
    "            \n",
    "        else:\n",
    "            continue"
   ]
  },
  {
   "cell_type": "code",
   "execution_count": null,
   "metadata": {},
   "outputs": [],
   "source": [
    "train_data = load_zipped_pickle(\"_data/train.pkl\")"
   ]
  },
  {
   "cell_type": "code",
   "execution_count": null,
   "metadata": {},
   "outputs": [],
   "source": [
    "data_inspection_train(train_data, 'expert')"
   ]
  },
  {
   "cell_type": "code",
   "execution_count": null,
   "metadata": {},
   "outputs": [],
   "source": [
    "data_inspection_train(train_data, 'amateur')"
   ]
  },
  {
   "cell_type": "markdown",
   "metadata": {},
   "source": [
    "### 1.2 Show Interactively (using Sliders)"
   ]
  },
  {
   "cell_type": "code",
   "execution_count": null,
   "metadata": {},
   "outputs": [],
   "source": [
    "def show_frames_it_train(data, continuous_update=True):\n",
    "    def show(frame):\n",
    "        plt.figure(figsize=(8,8))\n",
    "        \n",
    "        plt.imshow(data['video'][:,:,frame], cmap='gray')\n",
    "        plt.imshow(data['box'], alpha=0.25, cmap='gray')\n",
    "        plt.imshow(data['label'][:,:,frame], alpha=0.35, cmap='hot')\n",
    "        \n",
    "        plt.show()\n",
    "        plt.close()\n",
    "    \n",
    "    interact(show, frame=IntSlider(min=0, max=data['video'].shape[2]-1, step=1, value=0, \n",
    "                                   continuous_update=continuous_update, layout=Layout(width='800px')))   "
   ]
  },
  {
   "cell_type": "code",
   "execution_count": null,
   "metadata": {},
   "outputs": [],
   "source": [
    "## Make sure u only inspect one video at a time! Sliders can be slow so u can try set continuous_update=False\n",
    "show_frames_it_train(train_data[-1], continuous_update=True)##expert"
   ]
  },
  {
   "cell_type": "code",
   "execution_count": null,
   "metadata": {},
   "outputs": [],
   "source": [
    "## Make sure u only inspect one video at a time! Sliders can be slow so u can try set continuous_update=False\n",
    "show_frames_it_train(train_data[0], continuous_update=True)##amateur"
   ]
  },
  {
   "cell_type": "markdown",
   "metadata": {},
   "source": [
    "## 2. Inspect Test Data\n",
    "### 2.1 Show Static Frames"
   ]
  },
  {
   "cell_type": "code",
   "execution_count": null,
   "metadata": {},
   "outputs": [],
   "source": [
    "def show_frames_test(data, frames):\n",
    "    fig, axes = plt.subplots(1, len(frames), figsize=(16,12))\n",
    "            \n",
    "    for frame, ax in zip(frames, axes):\n",
    "        ax.set_title(data['name'] + ': Frame#' + str(frame))\n",
    "        ax.imshow(data['video'][:,:,frame], cmap='gray')\n",
    "\n",
    "    plt.show()\n",
    "    plt.close() \n",
    "\n",
    "def data_inspection_test(test_data, num_frames):\n",
    "    test_size = len(test_data)\n",
    "\n",
    "    for idx in range(test_size):\n",
    "        data = test_data[idx]\n",
    "        \n",
    "        res = data['video'].shape\n",
    "        print('-----------')\n",
    "        print('Name: ', data['name'])\n",
    "        print('Video Resolution: ', res)\n",
    "\n",
    "        frames = np.random.choice(np.arange(res[2]), size=min(num_frames, res[2]))\n",
    "        \n",
    "        show_frames_test(data, frames)"
   ]
  },
  {
   "cell_type": "code",
   "execution_count": null,
   "metadata": {},
   "outputs": [],
   "source": [
    "test_data = load_zipped_pickle(\"_data/test.pkl\")"
   ]
  },
  {
   "cell_type": "code",
   "execution_count": null,
   "metadata": {},
   "outputs": [],
   "source": [
    "data_inspection_test(test_data, 5)"
   ]
  },
  {
   "cell_type": "markdown",
   "metadata": {},
   "source": [
    "### 2.2 Show Interactively (using Sliders)"
   ]
  },
  {
   "cell_type": "code",
   "execution_count": null,
   "metadata": {},
   "outputs": [],
   "source": [
    "def show_frames_it_test(data, continuous_update=True):\n",
    "    def show(frame):\n",
    "        plt.figure(figsize=(8,8))\n",
    "        \n",
    "        plt.imshow(data[:,:,frame], cmap='gray')  \n",
    "        plt.show()\n",
    "        plt.close()\n",
    "    \n",
    "    interact(show, frame=IntSlider(min=0, max=data.shape[2]-1, step=1, value=0, \n",
    "                                   continuous_update=continuous_update, layout=Layout(width='800px')))"
   ]
  },
  {
   "cell_type": "code",
   "execution_count": null,
   "metadata": {},
   "outputs": [],
   "source": [
    "## Make sure u only inspect one video at a time! Sliders can be slow so u can try set continuous_update=False\n",
    "show_frames_it_test(test_data[-1]['video'], continuous_update=True)"
   ]
  },
  {
   "cell_type": "code",
   "execution_count": null,
   "metadata": {},
   "outputs": [],
   "source": []
  }
 ],
 "metadata": {
  "kernelspec": {
   "display_name": "Python [conda env:proj3] *",
   "language": "python",
   "name": "conda-env-proj3-py"
  },
  "language_info": {
   "codemirror_mode": {
    "name": "ipython",
    "version": 3
   },
   "file_extension": ".py",
   "mimetype": "text/x-python",
   "name": "python",
   "nbconvert_exporter": "python",
   "pygments_lexer": "ipython3",
   "version": "3.8.12"
  }
 },
 "nbformat": 4,
 "nbformat_minor": 4
}
