{
 "cells": [
  {
   "cell_type": "code",
   "execution_count": null,
   "id": "9d2c85c7",
   "metadata": {},
   "outputs": [],
   "source": [
    "import pickle\n",
    "import gzip\n",
    "\n",
    "from VideoDenoising import denoiseVideo"
   ]
  },
  {
   "cell_type": "code",
   "execution_count": null,
   "id": "a274e7fc",
   "metadata": {},
   "outputs": [],
   "source": [
    "train_path = './_data/train.pkl'\n",
    "test_path = './_data/test.pkl'\n",
    "train_de_path = './_data/train_denoised.pkl'\n",
    "test_de_path = './_data/test_denoised.pkl'"
   ]
  },
  {
   "cell_type": "code",
   "execution_count": null,
   "id": "ed712e26",
   "metadata": {},
   "outputs": [],
   "source": [
    "def load_zipped_pickle(filename):\n",
    "    with gzip.open(filename, 'rb') as f:\n",
    "        loaded_object = pickle.load(f)\n",
    "        return loaded_object\n",
    "\n",
    "def save_zipped_pickle(obj, filename):\n",
    "    with gzip.open(filename, 'wb') as f:\n",
    "        pickle.dump(obj, f, 2)"
   ]
  },
  {
   "cell_type": "markdown",
   "id": "9fb54336",
   "metadata": {},
   "source": [
    "## Train Data"
   ]
  },
  {
   "cell_type": "code",
   "execution_count": null,
   "id": "02694b66",
   "metadata": {},
   "outputs": [],
   "source": [
    "def denoising_train(train_data):\n",
    "    train_size = len(train_data)\n",
    "    \n",
    "    train_denoised = []\n",
    "    \n",
    "    for idx in range(train_size):\n",
    "        data = train_data[idx]\n",
    "\n",
    "        video_denoised = denoiseVideo(data['video'], \n",
    "                     isFramesFirst = False, \n",
    "                     temporalWindowSize = 7, \n",
    "                     searchWindowSize = 21, \n",
    "                     templateSize = 7, \n",
    "                     h = 24)\n",
    "        \n",
    "        train_denoised.append({\n",
    "            'name': data['name'],\n",
    "            'video': video_denoised,\n",
    "            'box': data['box'],\n",
    "            'label': data['label'],\n",
    "            'frames': data['frames'],\n",
    "            'dataset': data['dataset']\n",
    "        })\n",
    "            \n",
    "\n",
    "    return train_denoised"
   ]
  },
  {
   "cell_type": "code",
   "execution_count": null,
   "id": "a84cca99",
   "metadata": {},
   "outputs": [],
   "source": [
    "train_data = load_zipped_pickle(train_path)"
   ]
  },
  {
   "cell_type": "code",
   "execution_count": null,
   "id": "9971f981",
   "metadata": {},
   "outputs": [],
   "source": [
    "train_denoised = denoising_train(train_data)"
   ]
  },
  {
   "cell_type": "code",
   "execution_count": null,
   "id": "a44b0f0a",
   "metadata": {},
   "outputs": [],
   "source": [
    "save_zipped_pickle(train_denoised, train_de_path)"
   ]
  },
  {
   "cell_type": "markdown",
   "id": "b6b6383c",
   "metadata": {},
   "source": [
    "## Test Data"
   ]
  },
  {
   "cell_type": "code",
   "execution_count": null,
   "id": "047249dd",
   "metadata": {},
   "outputs": [],
   "source": [
    "def denoising_test(test_data):\n",
    "    test_size = len(test_data)\n",
    "    \n",
    "    test_denoised = []\n",
    "    \n",
    "    for idx in range(test_size):\n",
    "        data = test_data[idx]\n",
    "\n",
    "        video_denoised = denoiseVideo(data['video'], \n",
    "                     isFramesFirst = False, \n",
    "                     temporalWindowSize = 7, \n",
    "                     searchWindowSize = 21, \n",
    "                     templateSize = 7, \n",
    "                     h = 24)\n",
    "        \n",
    "        test_denoised.append({\n",
    "            'name': data['name'],\n",
    "            'video': video_denoised,\n",
    "        })\n",
    "            \n",
    "\n",
    "    return test_denoised"
   ]
  },
  {
   "cell_type": "code",
   "execution_count": null,
   "id": "866eda50",
   "metadata": {},
   "outputs": [],
   "source": [
    "test_data = load_zipped_pickle(test_path)"
   ]
  },
  {
   "cell_type": "code",
   "execution_count": null,
   "id": "91d2d524",
   "metadata": {
    "scrolled": true
   },
   "outputs": [],
   "source": [
    "test_denoised = denoising_test(test_data)"
   ]
  },
  {
   "cell_type": "code",
   "execution_count": null,
   "id": "d388c993",
   "metadata": {},
   "outputs": [],
   "source": [
    "save_zipped_pickle(test_denoised, test_de_path)"
   ]
  },
  {
   "cell_type": "code",
   "execution_count": null,
   "id": "b4496f57",
   "metadata": {},
   "outputs": [],
   "source": []
  }
 ],
 "metadata": {
  "kernelspec": {
   "display_name": "Python [conda env:proj3] *",
   "language": "python",
   "name": "conda-env-proj3-py"
  },
  "language_info": {
   "codemirror_mode": {
    "name": "ipython",
    "version": 3
   },
   "file_extension": ".py",
   "mimetype": "text/x-python",
   "name": "python",
   "nbconvert_exporter": "python",
   "pygments_lexer": "ipython3",
   "version": "3.8.12"
  }
 },
 "nbformat": 4,
 "nbformat_minor": 5
}
