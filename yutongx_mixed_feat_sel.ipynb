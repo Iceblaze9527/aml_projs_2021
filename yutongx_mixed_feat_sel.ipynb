{
 "cells": [
  {
   "cell_type": "code",
   "execution_count": 1,
   "id": "26924d27",
   "metadata": {},
   "outputs": [],
   "source": [
    "import os\n",
    "\n",
    "import pandas as pd\n",
    "import numpy as np\n",
    "\n",
    "from sklearn.impute import SimpleImputer\n",
    "from sklearn.feature_selection import SelectFromModel, SelectKBest, f_regression\n",
    "from sklearn.linear_model import Lasso\n",
    "from sklearn.ensemble import IsolationForest\n",
    "from sklearn.preprocessing import StandardScaler\n",
    "from sklearn.utils import shuffle\n",
    "from sklearn.svm import SVR\n",
    "from sklearn.model_selection import train_test_split, GridSearchCV\n",
    "from sklearn.metrics import r2_score"
   ]
  },
  {
   "cell_type": "markdown",
   "id": "39b07f2d",
   "metadata": {},
   "source": [
    "## 0. Parameters"
   ]
  },
  {
   "cell_type": "markdown",
   "id": "255c4abf",
   "metadata": {},
   "source": [
    "### 0.1 Global Params"
   ]
  },
  {
   "cell_type": "code",
   "execution_count": 2,
   "id": "448e1cac",
   "metadata": {},
   "outputs": [],
   "source": [
    "root_path = './'\n",
    "X_train_path = 'X_train.csv'\n",
    "X_test_path = 'X_test.csv'\n",
    "y_train_path = 'y_train.csv'\n",
    "y_test_path = 'y_test_yutong_v14.csv'\n",
    "\n",
    "\n",
    "val_size = 10\n",
    "random_state = 30"
   ]
  },
  {
   "cell_type": "markdown",
   "id": "7061adcd",
   "metadata": {},
   "source": [
    "### 0.2 Feature Selection & Outlier Detection"
   ]
  },
  {
   "cell_type": "code",
   "execution_count": 3,
   "id": "51a28467",
   "metadata": {},
   "outputs": [],
   "source": [
    "num_features = 200# np.arange(175,251)## about 200 real features\n",
    "l1_lambda = 0.2\n",
    "max_features = 25\n",
    "\n",
    "n_estimators = 100# np.arange(100,176)"
   ]
  },
  {
   "cell_type": "markdown",
   "id": "53e62513",
   "metadata": {},
   "source": [
    "### 0.3 Regresion & Model Selection"
   ]
  },
  {
   "cell_type": "code",
   "execution_count": 4,
   "id": "0962f38c",
   "metadata": {},
   "outputs": [],
   "source": [
    "num_KFold = 10\n",
    "\n",
    "svr_param_grid = {\n",
    "    'C': np.arange(80,110),\n",
    "    'gamma': np.arange(1e-3, 1e-2, step=1e-3)}"
   ]
  },
  {
   "cell_type": "markdown",
   "id": "be0d5388",
   "metadata": {},
   "source": [
    "## 1. Data Loading"
   ]
  },
  {
   "cell_type": "code",
   "execution_count": 5,
   "id": "05b589f7",
   "metadata": {},
   "outputs": [],
   "source": [
    "def data_raw(root_path, data_path):\n",
    "    return pd.read_csv(os.path.join(root_path, data_path)).values[:,1:]\n",
    "\n",
    "X_train_raw = data_raw(root_path, X_train_path)\n",
    "X_test_raw = data_raw(root_path, X_test_path)\n",
    "y_train = data_raw(root_path, y_train_path).ravel()"
   ]
  },
  {
   "cell_type": "markdown",
   "id": "487b55d5",
   "metadata": {},
   "source": [
    "## 2. Data Wrangling & Preprocessing"
   ]
  },
  {
   "cell_type": "markdown",
   "id": "8f04fcb3",
   "metadata": {},
   "source": [
    "### 2.1 Imputation Methods"
   ]
  },
  {
   "cell_type": "code",
   "execution_count": 6,
   "id": "2c21a782",
   "metadata": {},
   "outputs": [],
   "source": [
    "def imputation(X_raw):\n",
    "    imp_med = SimpleImputer(missing_values=np.nan, strategy='median')\n",
    "    return imp_med.fit_transform(X_raw)\n",
    "\n",
    "X_train_raw = imputation(X_train_raw)\n",
    "X_test_raw = imputation(X_test_raw)"
   ]
  },
  {
   "cell_type": "markdown",
   "id": "bccc3a08",
   "metadata": {},
   "source": [
    "### 2.2 Feature Selection Methods"
   ]
  },
  {
   "cell_type": "code",
   "execution_count": 7,
   "id": "c26fdf9c",
   "metadata": {},
   "outputs": [
    {
     "name": "stdout",
     "output_type": "stream",
     "text": [
      "selected 209 out of 832 features\n"
     ]
    },
    {
     "name": "stderr",
     "output_type": "stream",
     "text": [
      "/home/leona/anaconda3/lib/python3.8/site-packages/sklearn/feature_selection/_univariate_selection.py:284: RuntimeWarning: invalid value encountered in sqrt\n",
      "  X_norms = np.sqrt(row_norms(X.T, squared=True) - n_samples * X_means ** 2)\n",
      "/home/leona/anaconda3/lib/python3.8/site-packages/sklearn/feature_selection/_univariate_selection.py:289: RuntimeWarning: invalid value encountered in true_divide\n",
      "  correlation_coefficient /= X_norms\n"
     ]
    }
   ],
   "source": [
    "def feature_selection_fabian(X_train, y_train): \n",
    "    normalizedX_train = StandardScaler().fit_transform(X_train)\n",
    "    \n",
    "    lasso = Lasso(alpha=l1_lambda, random_state=random_state).fit(normalizedX_train, y_train)\n",
    "    selectionModel = SelectFromModel(lasso, prefit=True, max_features=max_features)\n",
    "    \n",
    "    return selectionModel.get_support(indices=True)\n",
    "\n",
    "def feature_selection_yutong(X_train, y_train):\n",
    "    kbest = SelectKBest(score_func = f_regression, k=num_features).fit(X_train, y_train)\n",
    "    \n",
    "    return kbest.get_support(indices=True)\n",
    "\n",
    "def feature_selection(X_test, X_train, y_train):\n",
    "    selectedFeaturesFabian = feature_selection_fabian(X_train, y_train)\n",
    "    selectedFeaturesYutong = feature_selection_yutong(X_train, y_train)\n",
    "    \n",
    "    selectedIdxs = selectedFeaturesYutong\n",
    "    selectedIdxs = np.union1d(selectedFeaturesFabian, selectedFeaturesYutong)\n",
    "    print(f\"selected {len(selectedIdxs)} out of {X_train.shape[1]} features\")\n",
    "    \n",
    "    selectedX_train = X_train[:, selectedIdxs]\n",
    "    selectedX_test = X_test[:, selectedIdxs]\n",
    "    \n",
    "    return selectedX_test, selectedX_train\n",
    "\n",
    "X_test_raw, X_train_raw = feature_selection(X_test_raw, X_train_raw, y_train)"
   ]
  },
  {
   "cell_type": "markdown",
   "id": "916de77a",
   "metadata": {},
   "source": [
    "### 2.3 Outlier Detection Methods"
   ]
  },
  {
   "cell_type": "code",
   "execution_count": 8,
   "id": "ce6017bf",
   "metadata": {},
   "outputs": [],
   "source": [
    "def outlier_detection(X_raw, y, n_estimators):\n",
    "    iso = IsolationForest(n_estimators = n_estimators, random_state=random_state).fit_predict(X_raw)\n",
    "    return X_raw[iso == 1], y[iso == 1]\n",
    "\n",
    "# def train_val_split(X_train, y_train, val_size):\n",
    "#     return train_test_split(X_train, y_train, test_size=val_size, random_state=random_state)\n",
    "# X_train_raw, X_val_raw, y_train, y_val = train_val_split(X_train_raw, y_train, val_size=val_size)\n",
    "\n",
    "X_train_raw, y_train = outlier_detection(X_train_raw, y_train, n_estimators)"
   ]
  },
  {
   "cell_type": "markdown",
   "id": "08ddd8ce",
   "metadata": {},
   "source": [
    "### 2.4 Scaling"
   ]
  },
  {
   "cell_type": "code",
   "execution_count": 9,
   "id": "b611ba7c",
   "metadata": {},
   "outputs": [],
   "source": [
    "X_train = StandardScaler().fit_transform(X_train_raw)\n",
    "# X_val = StandardScaler().fit_transform(X_val_raw)\n",
    "X_test = StandardScaler().fit_transform(X_test_raw)\n",
    "\n",
    "X_train, y_train = shuffle(X_train, y_train, random_state=random_state)"
   ]
  },
  {
   "cell_type": "markdown",
   "id": "7d3d29fe",
   "metadata": {},
   "source": [
    "## 3. Regression & Param Tuning"
   ]
  },
  {
   "cell_type": "code",
   "execution_count": 10,
   "id": "11966375",
   "metadata": {},
   "outputs": [],
   "source": [
    "svr = SVR()\n",
    "reg = GridSearchCV(svr, svr_param_grid, scoring='r2', n_jobs=-1, cv=num_KFold).fit(X_train, y_train)"
   ]
  },
  {
   "cell_type": "markdown",
   "id": "d92d45d2",
   "metadata": {},
   "source": [
    "## 4. Evaluation"
   ]
  },
  {
   "cell_type": "markdown",
   "id": "1fed031e",
   "metadata": {},
   "source": [
    "y_val_pred = reg.predict(X_val)\n",
    "print(\"Val R2 Score: \", r2_score(y_val, y_val_pred))"
   ]
  },
  {
   "cell_type": "code",
   "execution_count": 11,
   "id": "e5049ceb",
   "metadata": {},
   "outputs": [
    {
     "name": "stdout",
     "output_type": "stream",
     "text": [
      "Best Estimator:  SVR(C=101, gamma=0.004)\n",
      "Best Score:  0.6911622121838135\n"
     ]
    }
   ],
   "source": [
    "print(\"Best Estimator: \", reg.best_estimator_)\n",
    "print(\"Best Score: \", reg.best_score_)"
   ]
  },
  {
   "cell_type": "markdown",
   "id": "4cb3aa8d",
   "metadata": {},
   "source": [
    "## 5. Results"
   ]
  },
  {
   "cell_type": "code",
   "execution_count": 12,
   "id": "b232f186",
   "metadata": {},
   "outputs": [],
   "source": [
    "y_test_pred = reg.predict(X_test)\n",
    "\n",
    "df_result = pd.DataFrame(data = y_test_pred, columns=['y'])\n",
    "df_result.to_csv(path_or_buf=os.path.join(root_path,y_test_path), index_label='id')"
   ]
  },
  {
   "cell_type": "code",
   "execution_count": null,
   "id": "6bab9e31",
   "metadata": {},
   "outputs": [],
   "source": []
  }
 ],
 "metadata": {
  "interpreter": {
   "hash": "2715b5b56263e6afb52612a7a0c49112da09cc9511b771ad260582f47999e9fe"
  },
  "kernelspec": {
   "display_name": "Python 3 (ipykernel)",
   "language": "python",
   "name": "python3"
  },
  "language_info": {
   "codemirror_mode": {
    "name": "ipython",
    "version": 3
   },
   "file_extension": ".py",
   "mimetype": "text/x-python",
   "name": "python",
   "nbconvert_exporter": "python",
   "pygments_lexer": "ipython3",
   "version": "3.8.12"
  }
 },
 "nbformat": 4,
 "nbformat_minor": 5
}
