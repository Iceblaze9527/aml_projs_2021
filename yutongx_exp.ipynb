{
 "cells": [
  {
   "cell_type": "code",
   "execution_count": null,
   "id": "raised-fossil",
   "metadata": {},
   "outputs": [],
   "source": [
    "import os\n",
    "\n",
    "import pandas as pd\n",
    "import numpy as np\n",
    "\n",
    "from sklearn.impute import SimpleImputer\n",
    "from sklearn.feature_selection import SelectKBest, f_regression, mutual_info_regression\n",
    "from sklearn.ensemble import IsolationForest\n",
    "from sklearn.preprocessing import StandardScaler\n",
    "from sklearn.utils import shuffle\n",
    "from sklearn.svm import SVR\n",
    "from sklearn.model_selection import train_test_split, GridSearchCV\n",
    "from sklearn.metrics import r2_score"
   ]
  },
  {
   "cell_type": "markdown",
   "id": "black-senior",
   "metadata": {},
   "source": [
    "## 0. Parameters\n",
    "\n",
    "### 0.1 Global Params"
   ]
  },
  {
   "cell_type": "code",
   "execution_count": null,
   "id": "dress-bibliography",
   "metadata": {},
   "outputs": [],
   "source": [
    "root_path = './'\n",
    "X_train_path = 'X_train.csv'\n",
    "X_test_path = 'X_test.csv'\n",
    "y_train_path = 'y_train.csv'\n",
    "y_test_path = 'y_test_yutong_v10.csv'\n",
    "\n",
    "val_size = 25\n",
    "random_state = 30"
   ]
  },
  {
   "cell_type": "markdown",
   "id": "ambient-monster",
   "metadata": {},
   "source": [
    "### 0.2 Feature Selection"
   ]
  },
  {
   "cell_type": "code",
   "execution_count": null,
   "id": "prescribed-reality",
   "metadata": {},
   "outputs": [],
   "source": [
    "num_features = 225# np.arange(175,251)## about 200 real features\n",
    "n_estimators = 100# np.arange(100,176)"
   ]
  },
  {
   "cell_type": "markdown",
   "id": "unavailable-financing",
   "metadata": {},
   "source": [
    "### 0.3 Regresion & Model Selection"
   ]
  },
  {
   "cell_type": "code",
   "execution_count": null,
   "id": "assisted-cassette",
   "metadata": {},
   "outputs": [],
   "source": [
    "num_KFold = 10\n",
    "\n",
    "svr_param_grid = {\n",
    "    'C': np.arange(80,110),\n",
    "'gamma': np.arange(1e-3, 1e-2, step=1e-3)}"
   ]
  },
  {
   "cell_type": "markdown",
   "id": "seeing-necessity",
   "metadata": {},
   "source": [
    "## 1. Data Loading"
   ]
  },
  {
   "cell_type": "code",
   "execution_count": null,
   "id": "adopted-delight",
   "metadata": {},
   "outputs": [],
   "source": [
    "def data_raw(root_path, data_path):\n",
    "    return pd.read_csv(os.path.join(root_path, data_path)).values[:,1:]\n",
    "\n",
    "X_train_raw = data_raw(root_path, X_train_path)\n",
    "X_test_raw = data_raw(root_path, X_test_path)\n",
    "y_train = data_raw(root_path, y_train_path).ravel()"
   ]
  },
  {
   "cell_type": "markdown",
   "id": "abandoned-timber",
   "metadata": {},
   "source": [
    "## 2. Data Wrangling & Preprocessing\n",
    "\n",
    "### 2.1 Imputation Methods"
   ]
  },
  {
   "cell_type": "code",
   "execution_count": null,
   "id": "brutal-dover",
   "metadata": {},
   "outputs": [],
   "source": [
    "def median_imp(X_raw):\n",
    "    imp_med = SimpleImputer(missing_values=np.nan, strategy='median')\n",
    "    return imp_med.fit_transform(X_raw)\n",
    "\n",
    "X_train_raw = median_imp(X_train_raw)\n",
    "X_test_raw = median_imp(X_test_raw)"
   ]
  },
  {
   "cell_type": "markdown",
   "id": "paperback-episode",
   "metadata": {},
   "source": [
    "### 2.2 Feature Selection Methods"
   ]
  },
  {
   "cell_type": "code",
   "execution_count": null,
   "id": "occasional-player",
   "metadata": {},
   "outputs": [],
   "source": [
    "def feat_sel(X_raw, y, score_func, num_features):\n",
    "    return SelectKBest(score_func = score_func, k=num_features).fit(X_raw, y.ravel())\n",
    "\n",
    "selector = feat_sel(X_train_raw, y_train, f_regression, num_features)\n",
    "\n",
    "X_train_raw = selector.transform(X_train_raw)\n",
    "X_test_raw = selector.transform(X_test_raw)"
   ]
  },
  {
   "cell_type": "markdown",
   "id": "cheap-sampling",
   "metadata": {},
   "source": [
    "### 2.3 Outlier Detection Methods"
   ]
  },
  {
   "cell_type": "code",
   "execution_count": null,
   "id": "liberal-motivation",
   "metadata": {},
   "outputs": [],
   "source": [
    "def iforest(X_raw, y, n_estimators):\n",
    "    iso = IsolationForest(n_estimators = n_estimators, random_state=random_state).fit_predict(X_raw)\n",
    "    return X_raw[np.where(iso==1)], y[np.where(iso==1)]\n",
    "\n",
    "def train_val_split(X_train, y_train, val_size):\n",
    "    return train_test_split(X_train, y_train, test_size=val_size, random_state=random_state)\n",
    "\n",
    "X_train_raw, X_val_raw, y_train, y_val = train_val_split(X_train_raw, y_train, val_size=val_size)\n",
    "X_train_raw, y_train = iforest(X_train_raw, y_train, n_estimators)"
   ]
  },
  {
   "cell_type": "markdown",
   "id": "informal-collar",
   "metadata": {},
   "source": [
    "### 2.4 Scaling"
   ]
  },
  {
   "cell_type": "code",
   "execution_count": null,
   "id": "ethical-tuesday",
   "metadata": {},
   "outputs": [],
   "source": [
    "X_train = StandardScaler().fit_transform(X_train_raw)\n",
    "X_val = StandardScaler().fit_transform(X_val_raw)\n",
    "X_train, y_train = shuffle(X_train, y_train, random_state=random_state)\n",
    "X_test = StandardScaler().fit_transform(X_test_raw)"
   ]
  },
  {
   "cell_type": "markdown",
   "id": "basic-bargain",
   "metadata": {},
   "source": [
    "## 3. Regression & Param Tuning"
   ]
  },
  {
   "cell_type": "code",
   "execution_count": null,
   "id": "respected-exclusion",
   "metadata": {},
   "outputs": [],
   "source": [
    "svr = SVR()\n",
    "reg = GridSearchCV(svr, svr_param_grid, scoring='r2', n_jobs=-1, cv=num_KFold).fit(X_train, y_train.ravel())"
   ]
  },
  {
   "cell_type": "markdown",
   "id": "infectious-merchandise",
   "metadata": {},
   "source": [
    "## 4. Evaluation"
   ]
  },
  {
   "cell_type": "code",
   "execution_count": null,
   "id": "abandoned-tucson",
   "metadata": {},
   "outputs": [],
   "source": [
    "y_val_pred = reg.predict(X_val)\n",
    "print(\"Val R2 Score: \", r2_score(y_val, y_val_pred))"
   ]
  },
  {
   "cell_type": "code",
   "execution_count": null,
   "id": "sustainable-crossing",
   "metadata": {},
   "outputs": [],
   "source": [
    "print(\"Best Estimator: \", reg.best_estimator_)\n",
    "print(\"Best Score: \", reg.best_score_)"
   ]
  },
  {
   "cell_type": "markdown",
   "id": "actual-reception",
   "metadata": {},
   "source": [
    "## 5. Results\n",
    "y_test_pred = reg.predict(X_test)\n",
    "\n",
    "df_result = pd.DataFrame(data = y_test_pred, columns=['y'])\n",
    "df_result.to_csv(path_or_buf=os.path.join(root_path,y_test_path), index_label='id')\n",
    "# 6. Ensemble with perturbed parameters"
   ]
  },
  {
   "cell_type": "code",
   "execution_count": null,
   "id": "after-berlin",
   "metadata": {},
   "outputs": [],
   "source": [
    "from RegressorEnsemble import RegressorEnsemble\n",
    "from random import gauss, expovariate\n",
    "\n",
    "def getPerturbedSvrs(paramRandDistributions, nSvrs):\n",
    "    \"\"\"paramGrid: dict where each key has a callable that will sample values from a random distribution as value.\"\"\"\n",
    "    svrs = []\n",
    "    for i in range(nSvrs):\n",
    "        sampledParams = {key: param() for key, param in paramRandDistributions.items()}\n",
    "        svrs.append(SVR(**sampledParams))\n",
    "    return svrs\n",
    "\n",
    "ensembleSize = 10\n",
    "paramRandDistributions = { #TODO: still need to put found optimal values as expectations here\n",
    "    'C': lambda: gauss(95, 12),\n",
    "'gamma': lambda: gauss(5e-3, 2e-3),\n",
    "\"epsilon\": lambda: 0.01 + expovariate(9)} #TODO: maybe uniform distribution between some values is better suited for epsilon\n",
    "ensemble = RegressorEnsemble(getPerturbedSvrs(paramRandDistributions, ensembleSize))\n",
    "ensemble.fit(X_train, y_train)\n",
    "\n",
    "y_test_pred = ensemble.predict(X_test)\n",
    "\n",
    "df_result = pd.DataFrame(data = y_test_pred, columns=['y'])\n",
    "df_result.to_csv(path_or_buf=os.path.join(root_path,\"ensembleResults.csv\"), index_label='id')\n",
    "\n"
   ]
  }
 ],
 "metadata": {},
 "nbformat": 4,
 "nbformat_minor": 5
}
