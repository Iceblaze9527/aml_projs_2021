{
 "cells": [
  {
   "cell_type": "code",
   "execution_count": null,
   "id": "455e7f48",
   "metadata": {},
   "outputs": [],
   "source": [
    "%%javascript\n",
    "IPython.OutputArea.prototype._should_scroll = function(){return false}"
   ]
  },
  {
   "cell_type": "code",
   "execution_count": null,
   "id": "bc1e0494",
   "metadata": {},
   "outputs": [],
   "source": [
    "import os\n",
    "import pickle\n",
    "import gzip\n",
    "from itertools import compress\n",
    "\n",
    "import cv2\n",
    "from skimage.filters import threshold_multiotsu\n",
    "from sklearn.cluster import DBSCAN\n",
    "\n",
    "import numpy as np\n",
    "import matplotlib.pyplot as plt\n",
    "from ipywidgets import Layout, interact, IntSlider"
   ]
  },
  {
   "cell_type": "code",
   "execution_count": null,
   "id": "e973af74",
   "metadata": {},
   "outputs": [],
   "source": [
    "def load_zipped_pickle(filename):\n",
    "    with gzip.open(filename, 'rb') as f:\n",
    "        loaded_object = pickle.load(f)\n",
    "        return loaded_object\n",
    "\n",
    "def save_zipped_pickle(obj, filename):\n",
    "    with gzip.open(filename, 'wb') as f:\n",
    "        pickle.dump(obj, f, 2)\n",
    "\n",
    "result_dir = './_results'"
   ]
  },
  {
   "cell_type": "code",
   "execution_count": null,
   "id": "3c830e52",
   "metadata": {},
   "outputs": [],
   "source": [
    "test_data = load_zipped_pickle(\"_data/test.pkl\")"
   ]
  },
  {
   "cell_type": "code",
   "execution_count": null,
   "id": "9b30a76b",
   "metadata": {},
   "outputs": [],
   "source": [
    "soft_preds = load_zipped_pickle(os.path.join(result_dir, 'soft_pred_ckpt18.pkl'))"
   ]
  },
  {
   "cell_type": "raw",
   "id": "031274d0",
   "metadata": {},
   "source": [
    "#     core_samples_mask = np.zeros_like(db.labels_, dtype=bool)\n",
    "#     core_samples_mask[db.core_sample_indices_] = True\n",
    "\n",
    "#     unique_labels = set(db_labels)\n",
    "#     colors = [plt.cm.Spectral(each) for each in np.linspace(0, 1, len(unique_labels))]\n",
    "#     for k, col in zip(unique_labels, colors):\n",
    "#         if k == -1:\n",
    "#             # Black used for noise.\n",
    "#             col = [0, 0, 0, 1]\n",
    "\n",
    "#         class_member_mask = db_labels == k\n",
    "\n",
    "#         xy = centers_matrix[class_member_mask & core_samples_mask & kept_areas_mask]\n",
    "#         plt.plot(\n",
    "#             xy[:, 0],\n",
    "#             xy[:, 1],\n",
    "#             \"o\",\n",
    "#             markerfacecolor=tuple(col),\n",
    "#             markeredgecolor=\"k\",\n",
    "#             markersize=14,\n",
    "#         )\n",
    "\n",
    "#         xy = centers_matrix[class_member_mask & ~core_samples_mask & kept_areas_mask]\n",
    "#         plt.plot(\n",
    "#             xy[:, 0],\n",
    "#             xy[:, 1],\n",
    "#             \"o\",\n",
    "#             markerfacecolor=tuple(col),\n",
    "#             markeredgecolor=\"k\",\n",
    "#             markersize=6,\n",
    "#         )\n",
    "#     plt.show()"
   ]
  },
  {
   "cell_type": "code",
   "execution_count": null,
   "id": "b1caeca7",
   "metadata": {},
   "outputs": [],
   "source": [
    "def processing(frame, connectivity=4):\n",
    "    thresholds = threshold_multiotsu(frame, classes=3)\n",
    "    pred_tri = np.digitize(frame, bins=thresholds)\n",
    "    \n",
    "    pred_1 = np.where(pred_tri==1,1,0).astype(np.uint8) \n",
    "    pred_2 = np.where(pred_tri==2,1,0).astype(np.uint8)\n",
    "    \n",
    "    _, labels, stats, centroids = cv2.connectedComponentsWithStats(pred_2, connectivity=connectivity)\n",
    "    \n",
    "    labels[pred_1 == 1] = 0\n",
    "    \n",
    "    return labels, centroids[1:]\n",
    "\n",
    "def post_proc(soft_pred):## i/o is the whole image\n",
    "    hard_pred = np.zeros(soft_pred.shape, dtype=int)\n",
    "    \n",
    "    centers = dict()\n",
    "    \n",
    "    for idx in range(soft_pred.shape[2]):\n",
    "        frame = soft_pred[:,:,idx]\n",
    "        labels, centroids = processing(frame)\n",
    "        hard_pred[:,:,idx] = labels\n",
    "        \n",
    "        for i in range(centroids.shape[0]):\n",
    "            key = (idx,i+1)\n",
    "            centers[key] = centroids[i]\n",
    "    \n",
    "    centers_matrix = np.stack(centers.values())\n",
    "    db = DBSCAN(eps=30, min_samples=10).fit(centers_matrix)\n",
    "    db_labels = db.labels_\n",
    "    \n",
    "    unique_labels, freq = np.unique(db_labels, return_counts=True)\n",
    "    max2 = np.argsort(freq)[-1]\n",
    "    max2_labels = unique_labels[max2]\n",
    "    max2_labels = np.delete(max2_labels, np.where(max2_labels==-1))\n",
    "    \n",
    "    kept_areas_mask = np.where(np.isin(db_labels, max2_labels), True, False)\n",
    "    kept_areas_keys = list(compress(centers.keys(), kept_areas_mask))\n",
    "    \n",
    "    for frame_idx, kept_label in kept_areas_keys:\n",
    "        frame = hard_pred[:,:,frame_idx]\n",
    "        label = np.where(frame==kept_label, -1, frame)\n",
    "        hard_pred[:,:,frame_idx] = label\n",
    "    \n",
    "    hard_pred_bin = np.where(hard_pred==-1, True, False)\n",
    "#     hard_pred_bin = np.where(hard_pred==0, False, True)\n",
    " \n",
    "    return hard_pred_bin"
   ]
  },
  {
   "cell_type": "code",
   "execution_count": null,
   "id": "b70f2600",
   "metadata": {},
   "outputs": [],
   "source": [
    "hard_preds = dict()\n",
    "\n",
    "for name, soft_pred in soft_preds.items():\n",
    "    hard_pred = post_proc(soft_pred)\n",
    "    hard_preds[name] = hard_pred"
   ]
  },
  {
   "cell_type": "markdown",
   "id": "af178355",
   "metadata": {},
   "source": [
    "### Show Interactively (using Sliders)"
   ]
  },
  {
   "cell_type": "code",
   "execution_count": null,
   "id": "1290570a",
   "metadata": {},
   "outputs": [],
   "source": [
    "def show_frames_it(data, pred, continuous_update=True):\n",
    "    def show(frame):\n",
    "        plt.figure(figsize=(8,8))\n",
    "        \n",
    "        plt.imshow(data[:,:,frame], cmap='gray')\n",
    "        plt.imshow(pred[:,:,frame], alpha=0.35, cmap='hot')\n",
    "        \n",
    "        plt.show()\n",
    "        plt.close()\n",
    "    \n",
    "    interact(show, frame=IntSlider(min=0, max=data.shape[2]-1, step=1, value=0, \n",
    "                                   continuous_update=continuous_update, layout=Layout(width='800px')))"
   ]
  },
  {
   "cell_type": "code",
   "execution_count": null,
   "id": "982e5acb",
   "metadata": {
    "scrolled": true
   },
   "outputs": [],
   "source": [
    "## Make sure u only inspect one video at a time! Sliders can be slow so u can try set continuous_update=False\n",
    "show_frames_it(test_data[0]['video'], hard_preds[test_data[0]['name']], continuous_update=True)"
   ]
  },
  {
   "cell_type": "code",
   "execution_count": null,
   "id": "e79e335c",
   "metadata": {
    "scrolled": true
   },
   "outputs": [],
   "source": [
    "## Make sure u only inspect one video at a time! Sliders can be slow so u can try set continuous_update=False\n",
    "show_frames_it(test_data[0]['video'], hard_preds[test_data[0]['name']], continuous_update=True)"
   ]
  },
  {
   "cell_type": "markdown",
   "id": "3128c302",
   "metadata": {},
   "source": [
    "## Visualize Predictions (Before / After Post-processing)\n",
    "### Show Static Frames"
   ]
  },
  {
   "cell_type": "code",
   "execution_count": null,
   "id": "09c0469c",
   "metadata": {},
   "outputs": [],
   "source": [
    "def show_frames(data, soft_pred, hard_pred, frames):\n",
    "    fig, (axes1, axes2) = plt.subplots(2, len(frames), figsize=(16,12))\n",
    "            \n",
    "    for frame, ax1 in zip(frames, axes1):\n",
    "        ax1.set_title(data['name'] + ': Frame#' + str(frame) + 'soft pred')\n",
    "        \n",
    "        ax1.imshow(data['video'][:,:,frame], cmap='gray')\n",
    "        ax1.imshow(soft_pred[:,:,frame], alpha=0.35, cmap='hot')\n",
    "    \n",
    "    for frame, ax2 in zip(frames, axes2):\n",
    "        ax2.set_title(data['name'] + ': Frame#' + str(frame) + 'hard pred')\n",
    "        \n",
    "        ax2.imshow(data['video'][:,:,frame], cmap='gray')\n",
    "        ax2.imshow(hard_pred[:,:,frame], alpha=0.35, cmap='hot')\n",
    "\n",
    "    plt.show()\n",
    "    plt.close()\n",
    "\n",
    "def data_inspection(test_data, soft_preds, hard_preds, num_frames):\n",
    "    test_size = len(test_data)\n",
    "\n",
    "    for idx in range(test_size):\n",
    "        data = test_data[idx]\n",
    "        soft_pred = soft_preds[data['name']]\n",
    "        hard_pred = hard_preds[data['name']]\n",
    "        \n",
    "        res = data['video'].shape\n",
    "        print('-----------')\n",
    "        print('Name: ', data['name'])\n",
    "        print('Video Resolution: ', res)\n",
    "\n",
    "        frames = np.random.choice(np.arange(res[2]), size=min(num_frames, res[2]))\n",
    "        \n",
    "        show_frames(data, soft_pred, hard_pred, frames)"
   ]
  },
  {
   "cell_type": "code",
   "execution_count": null,
   "id": "81d02fc5",
   "metadata": {},
   "outputs": [],
   "source": [
    "data_inspection(test_data, soft_preds, hard_preds, 3)"
   ]
  },
  {
   "cell_type": "markdown",
   "id": "4b77fd84",
   "metadata": {},
   "source": [
    "## 3. Save Final Predictions"
   ]
  },
  {
   "cell_type": "code",
   "execution_count": null,
   "id": "ec8c3f6b",
   "metadata": {},
   "outputs": [],
   "source": [
    "predictions = []\n",
    "\n",
    "for name, result in hard_preds.items():\n",
    "    predictions.append({\n",
    "        'name':name,\n",
    "        'prediction': result\n",
    "    })\n",
    "\n",
    "save_zipped_pickle(predictions, os.path.join(result_dir, 'y_test_yutong_v12.pkl'))"
   ]
  },
  {
   "cell_type": "code",
   "execution_count": null,
   "id": "1896008e",
   "metadata": {},
   "outputs": [],
   "source": []
  }
 ],
 "metadata": {
  "kernelspec": {
   "display_name": "Python [conda env:proj3] *",
   "language": "python",
   "name": "conda-env-proj3-py"
  },
  "language_info": {
   "codemirror_mode": {
    "name": "ipython",
    "version": 3
   },
   "file_extension": ".py",
   "mimetype": "text/x-python",
   "name": "python",
   "nbconvert_exporter": "python",
   "pygments_lexer": "ipython3",
   "version": "3.8.12"
  }
 },
 "nbformat": 4,
 "nbformat_minor": 5
}
