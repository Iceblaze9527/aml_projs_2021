{
 "cells": [
  {
   "cell_type": "code",
   "execution_count": 1,
   "id": "26924d27",
   "metadata": {},
   "outputs": [],
   "source": [
    "import os\n",
    "\n",
    "import pandas as pd\n",
    "import numpy as np\n",
    "\n",
    "from sklearn.experimental import enable_iterative_imputer\n",
    "from sklearn.impute import SimpleImputer#, IterativeImputer\n",
    "from sklearn.feature_selection import SelectKBest, mutual_info_regression, f_regression, r_regression## exp needed!\n",
    "from sklearn.ensemble import IsolationForest## exp needed!\n",
    "\n",
    "from sklearn.model_selection import train_test_split\n",
    "from sklearn.preprocessing import StandardScaler, QuantileTransformer## exp needed!\n",
    "\n",
    "from sklearn.svm import SVR## exp needed!\n",
    "\n",
    "from sklearn.model_selection import GridSearchCV, RandomizedSearchCV## exp needed!\n",
    "from sklearn.metrics import r2_score"
   ]
  },
  {
   "cell_type": "code",
   "execution_count": 2,
   "id": "6a4d1ef3",
   "metadata": {},
   "outputs": [],
   "source": [
    "root_path = './'\n",
    "X_train_path = 'X_train.csv'\n",
    "X_test_path = 'X_test.csv'\n",
    "y_train_path = 'y_train.csv'\n",
    "y_test_path = 'y_test_yutong_v2.csv'\n",
    "\n",
    "## Global\n",
    "val_size = 101\n",
    "random_state = 30\n",
    "\n",
    "## Feature Selection: \n",
    "num_features = 75\n",
    "### Isolation Forest\n",
    "n_estimators = 50\n",
    "contamination = 'auto'\n",
    "max_features = 1.0\n",
    "\n",
    "## Regresion:\n",
    "### SVR: Grid\n",
    "svr_param_grid = {\n",
    "    'C': [1, 10, 100, 1000], \n",
    "    'gamma': [1, 0.01, 0.001]}\n",
    "\n",
    "num_KFold = 10"
   ]
  },
  {
   "cell_type": "code",
   "execution_count": 3,
   "id": "ce6017bf",
   "metadata": {},
   "outputs": [],
   "source": [
    "def data_raw(root_path, data_path):\n",
    "    return pd.read_csv(os.path.join(root_path, data_path)).values[:,1:]\n",
    "\n",
    "def median_imp(X_raw):\n",
    "    imp_med = SimpleImputer(missing_values=np.nan, strategy='median')\n",
    "    return imp_med.fit_transform(X_raw)\n",
    "\n",
    "def mice_imp(X_raw):#use after feature sel! this is comp expensive\n",
    "    imp_mice = IterativeImputer(missing_values=np.nan, initial_strategy='median')\n",
    "    return imp_mice.fit_transform(X_raw)\n",
    "\n",
    "def feat_sel(X_raw, y, score_func, num_features):\n",
    "    return SelectKBest(score_func = score_func, k=num_features).fit(X_raw, y.ravel())\n",
    "\n",
    "def train_val_split(X_train, y_train, val_size, random_state):\n",
    "    return train_test_split(X_train, y_train, test_size=val_size, random_state=random_state)\n",
    "\n",
    "def out_det(X_raw, y, n_estimators, random_state):## param control\n",
    "    iso_for = IsolationForest(n_estimators = n_estimators, random_state=random_state).fit_predict(X_raw)\n",
    "    return X_raw[np.where(iso_for==1)], y[np.where(iso_for==1)]"
   ]
  },
  {
   "cell_type": "code",
   "execution_count": 4,
   "id": "b06625ed",
   "metadata": {},
   "outputs": [],
   "source": [
    "X_train_raw = data_raw(root_path, X_train_path)\n",
    "X_test_raw = data_raw(root_path, X_test_path)\n",
    "y_train = data_raw(root_path, y_train_path)"
   ]
  },
  {
   "cell_type": "code",
   "execution_count": 5,
   "id": "fc5fdd0c",
   "metadata": {},
   "outputs": [],
   "source": [
    "X_train_raw = median_imp(X_train_raw)\n",
    "X_test_raw = median_imp(X_test_raw)"
   ]
  },
  {
   "cell_type": "code",
   "execution_count": 6,
   "id": "646078fb",
   "metadata": {},
   "outputs": [],
   "source": [
    "mi_selector = feat_sel(X_train_raw, y_train, mutual_info_regression, num_features)\n",
    "\n",
    "X_train_raw = mi_selector.transform(X_train_raw)\n",
    "X_test = mi_selector.transform(X_test_raw)"
   ]
  },
  {
   "cell_type": "code",
   "execution_count": 7,
   "id": "98dd6954",
   "metadata": {},
   "outputs": [],
   "source": [
    "X_train_raw, X_val, y_train, y_val = train_val_split(X_train_raw, y_train, val_size, random_state)"
   ]
  },
  {
   "cell_type": "code",
   "execution_count": 8,
   "id": "88ecc144",
   "metadata": {},
   "outputs": [],
   "source": [
    "X_train, y_train = out_det(X_train_raw, y_train, n_estimators, random_state)"
   ]
  },
  {
   "cell_type": "code",
   "execution_count": 9,
   "id": "033533b6",
   "metadata": {
    "scrolled": true
   },
   "outputs": [],
   "source": [
    "X_train = StandardScaler().fit_transform(X_train)\n",
    "X_val = StandardScaler().fit_transform(X_val)\n",
    "X_test = StandardScaler().fit_transform(X_test)"
   ]
  },
  {
   "cell_type": "code",
   "execution_count": 10,
   "id": "11966375",
   "metadata": {},
   "outputs": [],
   "source": [
    "svr = SVR()\n",
    "reg = GridSearchCV(svr, svr_param_grid, scoring='r2', cv=num_KFold).fit(X_train, y_train.ravel())"
   ]
  },
  {
   "cell_type": "code",
   "execution_count": 11,
   "id": "6fa724d2",
   "metadata": {},
   "outputs": [
    {
     "data": {
      "text/plain": [
       "SVR(C=100, gamma=0.01)"
      ]
     },
     "execution_count": 11,
     "metadata": {},
     "output_type": "execute_result"
    }
   ],
   "source": [
    "reg.best_estimator_"
   ]
  },
  {
   "cell_type": "code",
   "execution_count": 12,
   "id": "bcd724da",
   "metadata": {
    "scrolled": true
   },
   "outputs": [
    {
     "name": "stdout",
     "output_type": "stream",
     "text": [
      "0.6464365625831985\n"
     ]
    }
   ],
   "source": [
    "y_val_pred = reg.predict(X_val)\n",
    "\n",
    "score = r2_score(y_val, y_val_pred)\n",
    "print(score)"
   ]
  },
  {
   "cell_type": "code",
   "execution_count": 13,
   "id": "36613d08",
   "metadata": {},
   "outputs": [],
   "source": [
    "y_test_pred = reg.predict(X_test)"
   ]
  },
  {
   "cell_type": "code",
   "execution_count": 14,
   "id": "8b2ec3c7",
   "metadata": {},
   "outputs": [],
   "source": [
    "df_result = pd.DataFrame(data = y_test_pred, columns=['y'])\n",
    "df_result.to_csv(path_or_buf=os.path.join(root_path,y_test_path), index_label='id')"
   ]
  },
  {
   "cell_type": "code",
   "execution_count": null,
   "id": "1422ce8f",
   "metadata": {},
   "outputs": [],
   "source": []
  },
  {
   "cell_type": "code",
   "execution_count": null,
   "id": "55af7c84",
   "metadata": {},
   "outputs": [],
   "source": []
  },
  {
   "cell_type": "code",
   "execution_count": null,
   "id": "bb5bc516",
   "metadata": {},
   "outputs": [],
   "source": []
  },
  {
   "cell_type": "code",
   "execution_count": null,
   "id": "354fe6c1",
   "metadata": {},
   "outputs": [],
   "source": []
  }
 ],
 "metadata": {
  "kernelspec": {
   "display_name": "Python [conda env:proj0] *",
   "language": "python",
   "name": "conda-env-proj0-py"
  },
  "language_info": {
   "codemirror_mode": {
    "name": "ipython",
    "version": 3
   },
   "file_extension": ".py",
   "mimetype": "text/x-python",
   "name": "python",
   "nbconvert_exporter": "python",
   "pygments_lexer": "ipython3",
   "version": "3.8.12"
  }
 },
 "nbformat": 4,
 "nbformat_minor": 5
}
