{
 "cells": [
  {
   "cell_type": "code",
   "execution_count": 1,
   "id": "26924d27",
   "metadata": {},
   "outputs": [],
   "source": [
    "import os\n",
    "\n",
    "import pandas as pd\n",
    "import numpy as np\n",
    "\n",
    "#from sklearn.experimental import enable_iterative_imputer\n",
    "from sklearn.impute import SimpleImputer#, IterativeImputer\n",
    "from sklearn.feature_selection import SelectKBest, mutual_info_regression, f_regression## exp needed, r_regression!\n",
    "from sklearn.ensemble import IsolationForest## exp needed!\n",
    "\n",
    "from sklearn.model_selection import train_test_split\n",
    "from sklearn.preprocessing import StandardScaler\n",
    "\n",
    "from sklearn.svm import SVR\n",
    "\n",
    "from sklearn.metrics import r2_score"
   ]
  },
  {
   "cell_type": "code",
   "execution_count": 2,
   "id": "6a4d1ef3",
   "metadata": {},
   "outputs": [],
   "source": [
    "root_path = './'\n",
    "X_train_path = 'X_train.csv'\n",
    "X_test_path = 'X_test.csv'\n",
    "y_train_path = 'y_train.csv'\n",
    "y_test_path = 'y_test_yutong_v2.csv'\n",
    "\n",
    "num_features = 25\n",
    "val_size = 101\n",
    "random_state = 29"
   ]
  },
  {
   "cell_type": "code",
   "execution_count": 3,
   "id": "ce6017bf",
   "metadata": {},
   "outputs": [],
   "source": [
    "def data_raw(root_path, data_path):\n",
    "    return pd.read_csv(os.path.join(root_path, data_path)).values[:,1:]\n",
    "\n",
    "def median_imp(X_raw):\n",
    "    imp_med = SimpleImputer(missing_values=np.nan, strategy='median')\n",
    "    return imp_med.fit_transform(X_raw)\n",
    "\n",
    "def mice_imp(X_raw):#use after feature sel! this is comp expensive\n",
    "    imp_mice = IterativeImputer(missing_values=np.nan, initial_strategy='median')\n",
    "    return imp_mice.fit_transform(X_raw)\n",
    "\n",
    "def feat_sel(X_raw, y, score_func, num_features):\n",
    "    return SelectKBest(score_func = score_func, k=num_features).fit(X_raw, y.ravel())\n",
    "\n",
    "def train_val_split(X_train, y_train, val_size, random_state):\n",
    "    return train_test_split(X_train, y_train, test_size=val_size, random_state=random_state)\n",
    "\n",
    "def out_det(X_raw, y, random_state):\n",
    "    iso_for = IsolationForest(random_state=random_state).fit_predict(X_raw)\n",
    "    return X_raw[np.where(iso_for==1)], y[np.where(iso_for==1)]"
   ]
  },
  {
   "cell_type": "code",
   "execution_count": 4,
   "id": "b06625ed",
   "metadata": {},
   "outputs": [],
   "source": [
    "X_train_raw = data_raw(root_path, X_train_path)\n",
    "X_test_raw = data_raw(root_path, X_test_path)\n",
    "y_train = data_raw(root_path, y_train_path)"
   ]
  },
  {
   "cell_type": "code",
   "execution_count": 5,
   "id": "fc5fdd0c",
   "metadata": {},
   "outputs": [],
   "source": [
    "X_train_raw = median_imp(X_train_raw)\n",
    "X_test_raw = median_imp(X_test_raw)"
   ]
  },
  {
   "cell_type": "code",
   "execution_count": 6,
   "id": "646078fb",
   "metadata": {},
   "outputs": [],
   "source": [
    "mi_selector = feat_sel(X_train_raw, y_train, mutual_info_regression, num_features)\n",
    "\n",
    "X_train_raw = mi_selector.transform(X_train_raw)\n",
    "X_test = mi_selector.transform(X_test_raw)"
   ]
  },
  {
   "cell_type": "code",
   "execution_count": 7,
   "id": "98dd6954",
   "metadata": {},
   "outputs": [],
   "source": [
    "X_train_raw, X_val, y_train, y_val = train_val_split(X_train_raw, y_train, val_size, random_state)"
   ]
  },
  {
   "cell_type": "code",
   "execution_count": 8,
   "id": "88ecc144",
   "metadata": {},
   "outputs": [],
   "source": [
    "X_train, y_train = out_det(X_train_raw, y_train, random_state)"
   ]
  },
  {
   "cell_type": "code",
   "execution_count": 9,
   "id": "033533b6",
   "metadata": {
    "scrolled": true
   },
   "outputs": [],
   "source": [
    "X_train = StandardScaler().fit_transform(X_train)\n",
    "X_val = StandardScaler().fit_transform(X_val)\n",
    "X_test = StandardScaler().fit_transform(X_test)"
   ]
  },
  {
   "cell_type": "code",
   "execution_count": 10,
   "id": "11966375",
   "metadata": {},
   "outputs": [],
   "source": [
    "svr = SVR().fit(X_train, y_train.ravel())"
   ]
  },
  {
   "cell_type": "code",
   "execution_count": 11,
   "id": "bcd724da",
   "metadata": {},
   "outputs": [],
   "source": [
    "y_val_pred = svr.predict(X_val)"
   ]
  },
  {
   "cell_type": "code",
   "execution_count": 12,
   "id": "746aee52",
   "metadata": {},
   "outputs": [
    {
     "name": "stdout",
     "output_type": "stream",
     "text": [
      "0.5019024311202779\n"
     ]
    }
   ],
   "source": [
    "score = r2_score(y_val, y_val_pred)\n",
    "print(score)"
   ]
  },
  {
   "cell_type": "code",
   "execution_count": 13,
   "id": "cbe17933",
   "metadata": {},
   "outputs": [],
   "source": [
    "y_test_pred = svr.predict(X_test)"
   ]
  },
  {
   "cell_type": "code",
   "execution_count": 15,
   "id": "70eeb567",
   "metadata": {},
   "outputs": [],
   "source": [
    "df_result = pd.DataFrame(data = y_test_pred, columns=['y'])\n",
    "df_result.to_csv(path_or_buf=os.path.join(root_path,y_test_path), index_label='id')"
   ]
  },
  {
   "cell_type": "code",
   "execution_count": null,
   "id": "1422ce8f",
   "metadata": {},
   "outputs": [],
   "source": []
  },
  {
   "cell_type": "code",
   "execution_count": null,
   "id": "55af7c84",
   "metadata": {},
   "outputs": [],
   "source": []
  },
  {
   "cell_type": "code",
   "execution_count": null,
   "id": "bb5bc516",
   "metadata": {},
   "outputs": [],
   "source": []
  },
  {
   "cell_type": "code",
   "execution_count": null,
   "id": "354fe6c1",
   "metadata": {},
   "outputs": [],
   "source": []
  }
 ],
 "metadata": {
  "kernelspec": {
   "display_name": "Python 3 (ipykernel)",
   "language": "python",
   "name": "python3"
  },
  "language_info": {
   "codemirror_mode": {
    "name": "ipython",
    "version": 3
   },
   "file_extension": ".py",
   "mimetype": "text/x-python",
   "name": "python",
   "nbconvert_exporter": "python",
   "pygments_lexer": "ipython3",
   "version": "3.8.12"
  }
 },
 "nbformat": 4,
 "nbformat_minor": 5
}
