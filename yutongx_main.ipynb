{
 "cells": [
  {
   "cell_type": "code",
   "execution_count": null,
   "id": "26924d27",
   "metadata": {},
   "outputs": [],
   "source": [
    "import os\n",
    "\n",
    "import pandas as pd\n",
    "import numpy as np\n",
    "\n",
    "# from sklearn.experimental import enable_iterative_imputer\n",
    "from sklearn.impute import SimpleImputer#, IterativeImputer\n",
    "from sklearn.feature_selection import SelectKBest, f_regression\n",
    "from sklearn.ensemble import IsolationForest## exp needed!\n",
    "from sklearn.preprocessing import StandardScaler\n",
    "from sklearn.svm import SVR\n",
    "from sklearn.model_selection import train_test_split, GridSearchCV\n",
    "from sklearn.metrics import r2_score"
   ]
  },
  {
   "cell_type": "markdown",
   "id": "39b07f2d",
   "metadata": {},
   "source": [
    "## 0. Parameters"
   ]
  },
  {
   "cell_type": "markdown",
   "id": "255c4abf",
   "metadata": {},
   "source": [
    "### 0.1 Global Params"
   ]
  },
  {
   "cell_type": "code",
   "execution_count": null,
   "id": "448e1cac",
   "metadata": {},
   "outputs": [],
   "source": [
    "root_path = './'\n",
    "X_train_path = 'X_train.csv'\n",
    "X_test_path = 'X_test.csv'\n",
    "y_train_path = 'y_train.csv'\n",
    "y_test_path = 'y_test_yutong_v8.csv'\n",
    "\n",
    "val_size = 10\n",
    "random_state = 30"
   ]
  },
  {
   "cell_type": "markdown",
   "id": "7061adcd",
   "metadata": {},
   "source": [
    "### 0.2 Feature Selection"
   ]
  },
  {
   "cell_type": "code",
   "execution_count": null,
   "id": "51a28467",
   "metadata": {},
   "outputs": [],
   "source": [
    "num_features = 225# np.arange(175,251)## about 200 real features\n",
    "n_estimators = 150# np.arange(100,176)"
   ]
  },
  {
   "cell_type": "markdown",
   "id": "53e62513",
   "metadata": {},
   "source": [
    "### 0.3 Regresion & Model Selection"
   ]
  },
  {
   "cell_type": "code",
   "execution_count": null,
   "id": "0962f38c",
   "metadata": {},
   "outputs": [],
   "source": [
    "num_KFold = 10\n",
    "\n",
    "svr_param_grid = {\n",
    "    'C': np.arange(80,101), \n",
    "    'gamma': np.arange(1e-3, 1e-2, step=1e-3)}"
   ]
  },
  {
   "cell_type": "markdown",
   "id": "be0d5388",
   "metadata": {},
   "source": [
    "## 1. Data Loading"
   ]
  },
  {
   "cell_type": "code",
   "execution_count": null,
   "id": "05b589f7",
   "metadata": {},
   "outputs": [],
   "source": [
    "def data_raw(root_path, data_path):\n",
    "    return pd.read_csv(os.path.join(root_path, data_path)).values[:,1:]\n",
    "\n",
    "X_train_raw = data_raw(root_path, X_train_path)\n",
    "X_test_raw = data_raw(root_path, X_test_path)\n",
    "y_train = data_raw(root_path, y_train_path)"
   ]
  },
  {
   "cell_type": "markdown",
   "id": "487b55d5",
   "metadata": {},
   "source": [
    "## 2. Data Wrangling & Preprocessing"
   ]
  },
  {
   "cell_type": "markdown",
   "id": "8f04fcb3",
   "metadata": {},
   "source": [
    "### 2.1 Imputation Methods"
   ]
  },
  {
   "cell_type": "code",
   "execution_count": null,
   "id": "2c21a782",
   "metadata": {},
   "outputs": [],
   "source": [
    "def median_imp(X_raw):\n",
    "    imp_med = SimpleImputer(missing_values=np.nan, strategy='median')\n",
    "    return imp_med.fit_transform(X_raw)\n",
    "\n",
    "def knn_imp(X_raw):##to-do, still a comp intensive methods and suffers from curse of dimensionality and outliers\n",
    "    pass\n",
    "\n",
    "def mice_imp(X_raw):#use after fea sel! this method is comp expensive, and is an unstable implementation based on docs\n",
    "    imp_mice = IterativeImputer(missing_values=np.nan, initial_strategy='median')\n",
    "    return imp_mice.fit_transform(X_raw)"
   ]
  },
  {
   "cell_type": "code",
   "execution_count": null,
   "id": "fc5fdd0c",
   "metadata": {},
   "outputs": [],
   "source": [
    "X_train_raw = median_imp(X_train_raw)\n",
    "X_test_raw = median_imp(X_test_raw)"
   ]
  },
  {
   "cell_type": "markdown",
   "id": "bccc3a08",
   "metadata": {},
   "source": [
    "### 2.2 Feature Selection Methods"
   ]
  },
  {
   "cell_type": "code",
   "execution_count": null,
   "id": "059a2d90",
   "metadata": {},
   "outputs": [],
   "source": [
    "def feat_sel(X_raw, y, score_func, num_features):\n",
    "    return SelectKBest(score_func = score_func, k=num_features).fit(X_raw, y.ravel())"
   ]
  },
  {
   "cell_type": "code",
   "execution_count": null,
   "id": "646078fb",
   "metadata": {},
   "outputs": [],
   "source": [
    "selector = feat_sel(X_train_raw, y_train, f_regression, num_features)\n",
    "\n",
    "X_train_raw = selector.transform(X_train_raw)\n",
    "X_test = selector.transform(X_test_raw)"
   ]
  },
  {
   "cell_type": "markdown",
   "id": "916de77a",
   "metadata": {},
   "source": [
    "### 2.3 Outlier Detection Methods"
   ]
  },
  {
   "cell_type": "code",
   "execution_count": null,
   "id": "ce6017bf",
   "metadata": {},
   "outputs": [],
   "source": [
    "def train_val_split(X_train, y_train, val_size):\n",
    "    return train_test_split(X_train, y_train, test_size=val_size, random_state=random_state)\n",
    "\n",
    "def iforest(X_raw, y, n_estimators):\n",
    "    iso = IsolationForest(n_estimators = n_estimators, random_state=random_state).fit_predict(X_raw)\n",
    "    return X_raw[np.where(iso==1)], y[np.where(iso==1)]"
   ]
  },
  {
   "cell_type": "code",
   "execution_count": null,
   "id": "6e1b1e7e",
   "metadata": {},
   "outputs": [],
   "source": [
    "X_train_raw, X_val, y_train, y_val = train_val_split(X_train_raw, y_train, val_size)\n",
    "\n",
    "X_train, y_train = iforest(X_train_raw, y_train, n_estimators)"
   ]
  },
  {
   "cell_type": "markdown",
   "id": "08ddd8ce",
   "metadata": {},
   "source": [
    "### 2.4 Scaling"
   ]
  },
  {
   "cell_type": "code",
   "execution_count": null,
   "id": "b611ba7c",
   "metadata": {},
   "outputs": [],
   "source": [
    "X_train = StandardScaler().fit_transform(X_train)\n",
    "X_val = StandardScaler().fit_transform(X_val)\n",
    "X_test = StandardScaler().fit_transform(X_test)"
   ]
  },
  {
   "cell_type": "markdown",
   "id": "7d3d29fe",
   "metadata": {},
   "source": [
    "## 3. Regression & Param Tuning"
   ]
  },
  {
   "cell_type": "code",
   "execution_count": null,
   "id": "11966375",
   "metadata": {},
   "outputs": [],
   "source": [
    "svr = SVR()\n",
    "reg = GridSearchCV(svr, svr_param_grid, scoring='r2', n_jobs=-1, cv=num_KFold).fit(X_train, y_train.ravel())"
   ]
  },
  {
   "cell_type": "markdown",
   "id": "d92d45d2",
   "metadata": {},
   "source": [
    "## 4. Evaluation"
   ]
  },
  {
   "cell_type": "code",
   "execution_count": null,
   "id": "576310a8",
   "metadata": {},
   "outputs": [],
   "source": [
    "print(\"Best Estimator: \", reg.best_estimator_)\n",
    "print(\"Best Score: \", reg.best_score_)"
   ]
  },
  {
   "cell_type": "code",
   "execution_count": null,
   "id": "bcd724da",
   "metadata": {
    "scrolled": true
   },
   "outputs": [],
   "source": [
    "y_val_pred = reg.predict(X_val)\n",
    "\n",
    "score = r2_score(y_val, y_val_pred)\n",
    "print(score)"
   ]
  },
  {
   "cell_type": "markdown",
   "id": "4cb3aa8d",
   "metadata": {},
   "source": [
    "## 5. Results"
   ]
  },
  {
   "cell_type": "raw",
   "id": "2245b9ee",
   "metadata": {},
   "source": [
    "y_test_pred = reg.predict(X_test)\n",
    "\n",
    "df_result = pd.DataFrame(data = y_test_pred, columns=['y'])\n",
    "df_result.to_csv(path_or_buf=os.path.join(root_path,y_test_path), index_label='id')"
   ]
  }
 ],
 "metadata": {
  "kernelspec": {
   "display_name": "Python [conda env:proj0]",
   "language": "python",
   "name": "conda-env-proj0-py"
  },
  "language_info": {
   "codemirror_mode": {
    "name": "ipython",
    "version": 3
   },
   "file_extension": ".py",
   "mimetype": "text/x-python",
   "name": "python",
   "nbconvert_exporter": "python",
   "pygments_lexer": "ipython3",
   "version": "3.8.12"
  }
 },
 "nbformat": 4,
 "nbformat_minor": 5
}
